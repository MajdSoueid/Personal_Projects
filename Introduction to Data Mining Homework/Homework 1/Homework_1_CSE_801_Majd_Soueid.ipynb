{
  "cells": [
    {
      "cell_type": "markdown",
      "id": "488db130",
      "metadata": {
        "id": "488db130"
      },
      "source": [
        "# Homework 1 - CSE 801 - Majd Soueid"
      ]
    },
    {
      "cell_type": "markdown",
      "id": "aad397d8",
      "metadata": {
        "id": "aad397d8"
      },
      "source": [
        "## 1- Given a 2D array (you can specify its dimension and values by yourself), please calculate its mean value of all entries and mask values less than the mean to 0s? And please count the number of zeros after masking?"
      ]
    },
    {
      "cell_type": "code",
      "execution_count": null,
      "id": "c5c4f361",
      "metadata": {
        "colab": {
          "base_uri": "https://localhost:8080/"
        },
        "id": "c5c4f361",
        "outputId": "e08c8cdd-24bc-457b-c643-880a492418ce"
      },
      "outputs": [
        {
          "output_type": "stream",
          "name": "stdout",
          "text": [
            "Array:  \n",
            " [[ 5 11 19  2  8]\n",
            " [ 3  4  8 24 30]\n",
            " [21  2 14 94 63]] \n",
            "\n",
            "Mean:  20.533333333333335 \n",
            "\n",
            "Array after masking:  \n",
            " [[ 0  0  0  0  0]\n",
            " [ 0  0  0 24 30]\n",
            " [21  0  0 94 63]] \n",
            "\n",
            "Number of zero elements:  10\n"
          ]
        }
      ],
      "source": [
        "import numpy as np\n",
        "\n",
        "two_d_array = np.array([[5, 11, 19, 2, 8], [3, 4, 8, 24, 30], [21, 2, 14, 94, 63]]) #creating a 2d array\n",
        "print(\"Array: \", \"\\n\", two_d_array, \"\\n\")\n",
        "\n",
        "two_d_array_mean = np.mean(two_d_array) #getting the mean\n",
        "print(\"Mean: \",two_d_array_mean, \"\\n\")\n",
        "\n",
        "two_d_array[two_d_array < two_d_array_mean] = 0 #applying binary mask\n",
        "print(\"Array after masking: \", \"\\n\", two_d_array, \"\\n\")\n",
        "\n",
        "two_d_array_size = two_d_array.shape[0]*two_d_array.shape[1] #getting the number of elements in the array\n",
        "\n",
        "print(\"Number of zero elements: \", two_d_array_size - np.count_nonzero(two_d_array)) #substracting number of elements from number of non-zero elements to get the number of zero elements"
      ]
    },
    {
      "cell_type": "markdown",
      "id": "16914760",
      "metadata": {
        "id": "16914760"
      },
      "source": [
        "## 2- Initialize a 1D vector x: 1001 samples starting from -2, ending with 2. (Hint: linspace) Based on the vector x, create a vector y. Each element of y is equal to the square of the corresponding element of x. Plot x as x-axis values and y as y-axis values using matplot. (https://matplotlib.org/stable/tutorials/introductory/pyplot.html). Given the two vectors x and y, please compute the elementwise product of x and y, and their inner product."
      ]
    },
    {
      "cell_type": "code",
      "execution_count": null,
      "id": "a898d087",
      "metadata": {
        "colab": {
          "base_uri": "https://localhost:8080/",
          "height": 451
        },
        "id": "a898d087",
        "outputId": "d51682b3-b21b-4303-d1e0-2d93d7ef0c15"
      },
      "outputs": [
        {
          "output_type": "stream",
          "name": "stdout",
          "text": [
            "X:  [-2.    -1.996 -1.992 ...  1.992  1.996  2.   ] \n",
            "\n",
            "Y:  [4.       3.984016 3.968064 ... 3.968064 3.984016 4.      ] \n",
            "\n",
            "The Elementwise Product of X and Y:  [-8.         -7.95209594 -7.90438349 ...  7.90438349  7.95209594\n",
            "  8.        ] \n",
            "\n",
            "The Inner product of X and Y:  1.8207657603852567e-13 \n",
            "\n"
          ]
        },
        {
          "output_type": "display_data",
          "data": {
            "text/plain": [
              "<Figure size 432x288 with 1 Axes>"
            ],
            "image/png": "[encoded data removed]"
          },
          "metadata": {
            "needs_background": "light"
          }
        }
      ],
      "source": [
        "import numpy as np\n",
        "import matplotlib.pyplot as plt\n",
        "\n",
        "x = np.linspace(-2, 2, 1001) #generating x\n",
        "print(\"X: \", x, \"\\n\")\n",
        "\n",
        "y = x**2 #creating y\n",
        "print(\"Y: \", y, \"\\n\")\n",
        "\n",
        "plt.plot(x, y)\n",
        "plt.title(\"Plot Showing X vs Y\")\n",
        "plt.xlabel(\"X\")\n",
        "plt.ylabel(\"Y\")\n",
        "\n",
        "print(\"The Elementwise Product of X and Y: \", np.multiply(x, y), \"\\n\") #this could be done using x*y as well\n",
        "print(\"The Inner product of X and Y: \", np.inner(x, y), \"\\n\")"
      ]
    },
    {
      "cell_type": "markdown",
      "id": "cfec6f3e",
      "metadata": {
        "id": "cfec6f3e"
      },
      "source": [
        "## 3- Sample 10000 random integers uniformly from {1,2,3,4,5,6} and calculate their mean value. (Hint: numpy.random.randint)"
      ]
    },
    {
      "cell_type": "code",
      "execution_count": null,
      "id": "ff450216",
      "metadata": {
        "colab": {
          "base_uri": "https://localhost:8080/"
        },
        "id": "ff450216",
        "outputId": "a8130ad4-fe5e-40f5-9ade-4c646de9d324"
      },
      "outputs": [
        {
          "output_type": "stream",
          "name": "stdout",
          "text": [
            "Random Integers Array:  [1 4 6 ... 4 4 5] \n",
            "\n",
            "Mean of Random Integers Array:  3.4994\n"
          ]
        }
      ],
      "source": [
        "import numpy as np\n",
        "\n",
        "random_integers = np.random.randint(1, 7, 10000)\n",
        "print(\"Random Integers Array: \", random_integers, \"\\n\")\n",
        "\n",
        "print(\"Mean of Random Integers Array: \", np.mean(random_integers))"
      ]
    },
    {
      "cell_type": "markdown",
      "id": "ac314ec9",
      "metadata": {
        "id": "ac314ec9"
      },
      "source": [
        "## 4- Sample 10000 standard Gaussian distribution values and plot the histogram."
      ]
    },
    {
      "cell_type": "code",
      "execution_count": null,
      "id": "ae8ac5dc",
      "metadata": {
        "colab": {
          "base_uri": "https://localhost:8080/",
          "height": 298
        },
        "id": "ae8ac5dc",
        "outputId": "9b888d63-c8fd-463f-d713-723a720859c1"
      },
      "outputs": [
        {
          "output_type": "execute_result",
          "data": {
            "text/plain": [
              "Text(0.5, 1.0, 'Histogram Showing the Gaussian Distribution')"
            ]
          },
          "metadata": {},
          "execution_count": 7
        },
        {
          "output_type": "display_data",
          "data": {
            "text/plain": [
              "<Figure size 432x288 with 1 Axes>"
            ],
            "image/png": "[encoded data removed]"
          },
          "metadata": {
            "needs_background": "light"
          }
        }
      ],
      "source": [
        "import numpy as np\n",
        "import matplotlib.pyplot as plt\n",
        "\n",
        "gaus_dist = np.random.randn(10000)\n",
        "\n",
        "plt.hist(gaus_dist)\n",
        "plt.title(\"Histogram Showing the Gaussian Distribution\")"
      ]
    },
    {
      "cell_type": "markdown",
      "id": "89d5054d",
      "metadata": {
        "id": "89d5054d"
      },
      "source": [
        "## 5- Generating binomial distribution with parameters n = 100, p = 0.5, and size=1000, where n represents the total number of independent trials in one experiment, p is probability of success (e.g., tossing a coin with probability p = 0.5 of heading up), and size is the number of experiments. Use numpy.random to run this binomial experiment. Plot the histogram of how many times the head is up in one experiment. Does it look like the Gaussian histogram? What about using a larger size, e.g., size=10000?"
      ]
    },
    {
      "cell_type": "code",
      "execution_count": null,
      "id": "629ac4a1",
      "metadata": {
        "colab": {
          "base_uri": "https://localhost:8080/",
          "height": 298
        },
        "id": "629ac4a1",
        "outputId": "c999ce5d-9925-4301-c0b0-b6e13a08b762"
      },
      "outputs": [
        {
          "output_type": "execute_result",
          "data": {
            "text/plain": [
              "Text(0.5, 1.0, 'Histogram of How Many Times the Head is Up in One Experiment - 1000 Trials')"
            ]
          },
          "metadata": {},
          "execution_count": 8
        },
        {
          "output_type": "display_data",
          "data": {
            "text/plain": [
              "<Figure size 432x288 with 1 Axes>"
            ],
            "image/png": "[encoded data removed]"
          },
          "metadata": {
            "needs_background": "light"
          }
        }
      ],
      "source": [
        "import numpy as np\n",
        "import matplotlib.pyplot as plt\n",
        "\n",
        "trial_1 = 1000\n",
        "\n",
        "binom_dist_1 = np.random.binomial(n=100, p=0.5, size = trial_1)\n",
        "\n",
        "plt.hist(binom_dist_1)\n",
        "plt.title(\"Histogram of How Many Times the Head is Up in One Experiment - 1000 Trials\")"
      ]
    },
    {
      "cell_type": "code",
      "execution_count": null,
      "id": "f5a253d6",
      "metadata": {
        "colab": {
          "base_uri": "https://localhost:8080/",
          "height": 298
        },
        "id": "f5a253d6",
        "outputId": "987ebb74-37b8-48cd-a860-bd76885b75f8"
      },
      "outputs": [
        {
          "output_type": "execute_result",
          "data": {
            "text/plain": [
              "Text(0.5, 1.0, 'Histogram of How Many Times the Head is Up in One Experiment - 10000 Trials')"
            ]
          },
          "metadata": {},
          "execution_count": 9
        },
        {
          "output_type": "display_data",
          "data": {
            "text/plain": [
              "<Figure size 432x288 with 1 Axes>"
            ],
            "image/png": "[encoded data removed]"
          },
          "metadata": {
            "needs_background": "light"
          }
        }
      ],
      "source": [
        "import numpy as np\n",
        "import matplotlib.pyplot as plt\n",
        "\n",
        "trial_2 = 10000\n",
        "\n",
        "binom_dist_2 = np.random.binomial(n=100, p=0.5, size = trial_2)\n",
        "\n",
        "plt.hist(binom_dist_2)\n",
        "plt.title(\"Histogram of How Many Times the Head is Up in One Experiment - 10000 Trials\")"
      ]
    },
    {
      "cell_type": "code",
      "execution_count": null,
      "id": "3b35aa23",
      "metadata": {
        "colab": {
          "base_uri": "https://localhost:8080/",
          "height": 370
        },
        "id": "3b35aa23",
        "outputId": "1226283f-1734-4c88-d2b3-f04175710f90"
      },
      "outputs": [
        {
          "output_type": "stream",
          "name": "stderr",
          "text": [
            "/usr/local/lib/python3.8/dist-packages/numpy/core/fromnumeric.py:3208: VisibleDeprecationWarning: Creating an ndarray from ragged nested sequences (which is a list-or-tuple of lists-or-tuples-or ndarrays with different lengths or shapes) is deprecated. If you meant to do this, you must specify 'dtype=object' when creating the ndarray.\n",
            "  return asarray(a).size\n",
            "/usr/local/lib/python3.8/dist-packages/matplotlib/cbook/__init__.py:1376: VisibleDeprecationWarning: Creating an ndarray from ragged nested sequences (which is a list-or-tuple of lists-or-tuples-or ndarrays with different lengths or shapes) is deprecated. If you meant to do this, you must specify 'dtype=object' when creating the ndarray.\n",
            "  X = np.atleast_1d(X.T if isinstance(X, np.ndarray) else np.asarray(X))\n"
          ]
        },
        {
          "output_type": "display_data",
          "data": {
            "text/plain": [
              "<Figure size 432x288 with 1 Axes>"
            ],
            "image/png": "[encoded data removed]"
          },
          "metadata": {
            "needs_background": "light"
          }
        }
      ],
      "source": [
        "plt.hist([binom_dist_1, binom_dist_2], label = [\"1000 Trials\", \"10000 Trials\"])\n",
        "plt.title(\"Comparing Histograms\")\n",
        "plt.legend(loc = 'upper right')\n",
        "plt.show()"
      ]
    },
    {
      "cell_type": "markdown",
      "id": "d61b6feb",
      "metadata": {
        "id": "d61b6feb"
      },
      "source": [
        "## 6- The Iris flower data set"
      ]
    },
    {
      "cell_type": "code",
      "execution_count": null,
      "id": "bcf02d14",
      "metadata": {
        "colab": {
          "base_uri": "https://localhost:8080/"
        },
        "id": "bcf02d14",
        "outputId": "61cab935-f614-4af3-97b2-d10f6e844ca7"
      },
      "outputs": [
        {
          "output_type": "execute_result",
          "data": {
            "text/plain": [
              "{'data': array([[5.1, 3.5, 1.4, 0.2],\n",
              "        [4.9, 3. , 1.4, 0.2],\n",
              "        [4.7, 3.2, 1.3, 0.2],\n",
              "        [4.6, 3.1, 1.5, 0.2],\n",
              "        [5. , 3.6, 1.4, 0.2],\n",
              "        [5.4, 3.9, 1.7, 0.4],\n",
              "        [4.6, 3.4, 1.4, 0.3],\n",
              "        [5. , 3.4, 1.5, 0.2],\n",
              "        [4.4, 2.9, 1.4, 0.2],\n",
              "        [4.9, 3.1, 1.5, 0.1],\n",
              "        [5.4, 3.7, 1.5, 0.2],\n",
              "        [4.8, 3.4, 1.6, 0.2],\n",
              "        [4.8, 3. , 1.4, 0.1],\n",
              "        [4.3, 3. , 1.1, 0.1],\n",
              "        [5.8, 4. , 1.2, 0.2],\n",
              "        [5.7, 4.4, 1.5, 0.4],\n",
              "        [5.4, 3.9, 1.3, 0.4],\n",
              "        [5.1, 3.5, 1.4, 0.3],\n",
              "        [5.7, 3.8, 1.7, 0.3],\n",
              "        [5.1, 3.8, 1.5, 0.3],\n",
              "        [5.4, 3.4, 1.7, 0.2],\n",
              "        [5.1, 3.7, 1.5, 0.4],\n",
              "        [4.6, 3.6, 1. , 0.2],\n",
              "        [5.1, 3.3, 1.7, 0.5],\n",
              "        [4.8, 3.4, 1.9, 0.2],\n",
              "        [5. , 3. , 1.6, 0.2],\n",
              "        [5. , 3.4, 1.6, 0.4],\n",
              "        [5.2, 3.5, 1.5, 0.2],\n",
              "        [5.2, 3.4, 1.4, 0.2],\n",
              "        [4.7, 3.2, 1.6, 0.2],\n",
              "        [4.8, 3.1, 1.6, 0.2],\n",
              "        [5.4, 3.4, 1.5, 0.4],\n",
              "        [5.2, 4.1, 1.5, 0.1],\n",
              "        [5.5, 4.2, 1.4, 0.2],\n",
              "        [4.9, 3.1, 1.5, 0.2],\n",
              "        [5. , 3.2, 1.2, 0.2],\n",
              "        [5.5, 3.5, 1.3, 0.2],\n",
              "        [4.9, 3.6, 1.4, 0.1],\n",
              "        [4.4, 3. , 1.3, 0.2],\n",
              "        [5.1, 3.4, 1.5, 0.2],\n",
              "        [5. , 3.5, 1.3, 0.3],\n",
              "        [4.5, 2.3, 1.3, 0.3],\n",
              "        [4.4, 3.2, 1.3, 0.2],\n",
              "        [5. , 3.5, 1.6, 0.6],\n",
              "        [5.1, 3.8, 1.9, 0.4],\n",
              "        [4.8, 3. , 1.4, 0.3],\n",
              "        [5.1, 3.8, 1.6, 0.2],\n",
              "        [4.6, 3.2, 1.4, 0.2],\n",
              "        [5.3, 3.7, 1.5, 0.2],\n",
              "        [5. , 3.3, 1.4, 0.2],\n",
              "        [7. , 3.2, 4.7, 1.4],\n",
              "        [6.4, 3.2, 4.5, 1.5],\n",
              "        [6.9, 3.1, 4.9, 1.5],\n",
              "        [5.5, 2.3, 4. , 1.3],\n",
              "        [6.5, 2.8, 4.6, 1.5],\n",
              "        [5.7, 2.8, 4.5, 1.3],\n",
              "        [6.3, 3.3, 4.7, 1.6],\n",
              "        [4.9, 2.4, 3.3, 1. ],\n",
              "        [6.6, 2.9, 4.6, 1.3],\n",
              "        [5.2, 2.7, 3.9, 1.4],\n",
              "        [5. , 2. , 3.5, 1. ],\n",
              "        [5.9, 3. , 4.2, 1.5],\n",
              "        [6. , 2.2, 4. , 1. ],\n",
              "        [6.1, 2.9, 4.7, 1.4],\n",
              "        [5.6, 2.9, 3.6, 1.3],\n",
              "        [6.7, 3.1, 4.4, 1.4],\n",
              "        [5.6, 3. , 4.5, 1.5],\n",
              "        [5.8, 2.7, 4.1, 1. ],\n",
              "        [6.2, 2.2, 4.5, 1.5],\n",
              "        [5.6, 2.5, 3.9, 1.1],\n",
              "        [5.9, 3.2, 4.8, 1.8],\n",
              "        [6.1, 2.8, 4. , 1.3],\n",
              "        [6.3, 2.5, 4.9, 1.5],\n",
              "        [6.1, 2.8, 4.7, 1.2],\n",
              "        [6.4, 2.9, 4.3, 1.3],\n",
              "        [6.6, 3. , 4.4, 1.4],\n",
              "        [6.8, 2.8, 4.8, 1.4],\n",
              "        [6.7, 3. , 5. , 1.7],\n",
              "        [6. , 2.9, 4.5, 1.5],\n",
              "        [5.7, 2.6, 3.5, 1. ],\n",
              "        [5.5, 2.4, 3.8, 1.1],\n",
              "        [5.5, 2.4, 3.7, 1. ],\n",
              "        [5.8, 2.7, 3.9, 1.2],\n",
              "        [6. , 2.7, 5.1, 1.6],\n",
              "        [5.4, 3. , 4.5, 1.5],\n",
              "        [6. , 3.4, 4.5, 1.6],\n",
              "        [6.7, 3.1, 4.7, 1.5],\n",
              "        [6.3, 2.3, 4.4, 1.3],\n",
              "        [5.6, 3. , 4.1, 1.3],\n",
              "        [5.5, 2.5, 4. , 1.3],\n",
              "        [5.5, 2.6, 4.4, 1.2],\n",
              "        [6.1, 3. , 4.6, 1.4],\n",
              "        [5.8, 2.6, 4. , 1.2],\n",
              "        [5. , 2.3, 3.3, 1. ],\n",
              "        [5.6, 2.7, 4.2, 1.3],\n",
              "        [5.7, 3. , 4.2, 1.2],\n",
              "        [5.7, 2.9, 4.2, 1.3],\n",
              "        [6.2, 2.9, 4.3, 1.3],\n",
              "        [5.1, 2.5, 3. , 1.1],\n",
              "        [5.7, 2.8, 4.1, 1.3],\n",
              "        [6.3, 3.3, 6. , 2.5],\n",
              "        [5.8, 2.7, 5.1, 1.9],\n",
              "        [7.1, 3. , 5.9, 2.1],\n",
              "        [6.3, 2.9, 5.6, 1.8],\n",
              "        [6.5, 3. , 5.8, 2.2],\n",
              "        [7.6, 3. , 6.6, 2.1],\n",
              "        [4.9, 2.5, 4.5, 1.7],\n",
              "        [7.3, 2.9, 6.3, 1.8],\n",
              "        [6.7, 2.5, 5.8, 1.8],\n",
              "        [7.2, 3.6, 6.1, 2.5],\n",
              "        [6.5, 3.2, 5.1, 2. ],\n",
              "        [6.4, 2.7, 5.3, 1.9],\n",
              "        [6.8, 3. , 5.5, 2.1],\n",
              "        [5.7, 2.5, 5. , 2. ],\n",
              "        [5.8, 2.8, 5.1, 2.4],\n",
              "        [6.4, 3.2, 5.3, 2.3],\n",
              "        [6.5, 3. , 5.5, 1.8],\n",
              "        [7.7, 3.8, 6.7, 2.2],\n",
              "        [7.7, 2.6, 6.9, 2.3],\n",
              "        [6. , 2.2, 5. , 1.5],\n",
              "        [6.9, 3.2, 5.7, 2.3],\n",
              "        [5.6, 2.8, 4.9, 2. ],\n",
              "        [7.7, 2.8, 6.7, 2. ],\n",
              "        [6.3, 2.7, 4.9, 1.8],\n",
              "        [6.7, 3.3, 5.7, 2.1],\n",
              "        [7.2, 3.2, 6. , 1.8],\n",
              "        [6.2, 2.8, 4.8, 1.8],\n",
              "        [6.1, 3. , 4.9, 1.8],\n",
              "        [6.4, 2.8, 5.6, 2.1],\n",
              "        [7.2, 3. , 5.8, 1.6],\n",
              "        [7.4, 2.8, 6.1, 1.9],\n",
              "        [7.9, 3.8, 6.4, 2. ],\n",
              "        [6.4, 2.8, 5.6, 2.2],\n",
              "        [6.3, 2.8, 5.1, 1.5],\n",
              "        [6.1, 2.6, 5.6, 1.4],\n",
              "        [7.7, 3. , 6.1, 2.3],\n",
              "        [6.3, 3.4, 5.6, 2.4],\n",
              "        [6.4, 3.1, 5.5, 1.8],\n",
              "        [6. , 3. , 4.8, 1.8],\n",
              "        [6.9, 3.1, 5.4, 2.1],\n",
              "        [6.7, 3.1, 5.6, 2.4],\n",
              "        [6.9, 3.1, 5.1, 2.3],\n",
              "        [5.8, 2.7, 5.1, 1.9],\n",
              "        [6.8, 3.2, 5.9, 2.3],\n",
              "        [6.7, 3.3, 5.7, 2.5],\n",
              "        [6.7, 3. , 5.2, 2.3],\n",
              "        [6.3, 2.5, 5. , 1.9],\n",
              "        [6.5, 3. , 5.2, 2. ],\n",
              "        [6.2, 3.4, 5.4, 2.3],\n",
              "        [5.9, 3. , 5.1, 1.8]]),\n",
              " 'target': array([0, 0, 0, 0, 0, 0, 0, 0, 0, 0, 0, 0, 0, 0, 0, 0, 0, 0, 0, 0, 0, 0,\n",
              "        0, 0, 0, 0, 0, 0, 0, 0, 0, 0, 0, 0, 0, 0, 0, 0, 0, 0, 0, 0, 0, 0,\n",
              "        0, 0, 0, 0, 0, 0, 1, 1, 1, 1, 1, 1, 1, 1, 1, 1, 1, 1, 1, 1, 1, 1,\n",
              "        1, 1, 1, 1, 1, 1, 1, 1, 1, 1, 1, 1, 1, 1, 1, 1, 1, 1, 1, 1, 1, 1,\n",
              "        1, 1, 1, 1, 1, 1, 1, 1, 1, 1, 1, 1, 2, 2, 2, 2, 2, 2, 2, 2, 2, 2,\n",
              "        2, 2, 2, 2, 2, 2, 2, 2, 2, 2, 2, 2, 2, 2, 2, 2, 2, 2, 2, 2, 2, 2,\n",
              "        2, 2, 2, 2, 2, 2, 2, 2, 2, 2, 2, 2, 2, 2, 2, 2, 2, 2]),\n",
              " 'frame': None,\n",
              " 'target_names': array(['setosa', 'versicolor', 'virginica'], dtype='<U10'),\n",
              " 'DESCR': '.. _iris_dataset:\\n\\nIris plants dataset\\n--------------------\\n\\n**Data Set Characteristics:**\\n\\n    :Number of Instances: 150 (50 in each of three classes)\\n    :Number of Attributes: 4 numeric, predictive attributes and the class\\n    :Attribute Information:\\n        - sepal length in cm\\n        - sepal width in cm\\n        - petal length in cm\\n        - petal width in cm\\n        - class:\\n                - Iris-Setosa\\n                - Iris-Versicolour\\n                - Iris-Virginica\\n                \\n    :Summary Statistics:\\n\\n    ============== ==== ==== ======= ===== ====================\\n                    Min  Max   Mean    SD   Class Correlation\\n    ============== ==== ==== ======= ===== ====================\\n    sepal length:   4.3  7.9   5.84   0.83    0.7826\\n    sepal width:    2.0  4.4   3.05   0.43   -0.4194\\n    petal length:   1.0  6.9   3.76   1.76    0.9490  (high!)\\n    petal width:    0.1  2.5   1.20   0.76    0.9565  (high!)\\n    ============== ==== ==== ======= ===== ====================\\n\\n    :Missing Attribute Values: None\\n    :Class Distribution: 33.3% for each of 3 classes.\\n    :Creator: R.A. Fisher\\n    :Donor: Michael Marshall (MARSHALL%PLU@io.arc.nasa.gov)\\n    :Date: July, 1988\\n\\nThe famous Iris database, first used by Sir R.A. Fisher. The dataset is taken\\nfrom Fisher\\'s paper. Note that it\\'s the same as in R, but not as in the UCI\\nMachine Learning Repository, which has two wrong data points.\\n\\nThis is perhaps the best known database to be found in the\\npattern recognition literature.  Fisher\\'s paper is a classic in the field and\\nis referenced frequently to this day.  (See Duda & Hart, for example.)  The\\ndata set contains 3 classes of 50 instances each, where each class refers to a\\ntype of iris plant.  One class is linearly separable from the other 2; the\\nlatter are NOT linearly separable from each other.\\n\\n.. topic:: References\\n\\n   - Fisher, R.A. \"The use of multiple measurements in taxonomic problems\"\\n     Annual Eugenics, 7, Part II, 179-188 (1936); also in \"Contributions to\\n     Mathematical Statistics\" (John Wiley, NY, 1950).\\n   - Duda, R.O., & Hart, P.E. (1973) Pattern Classification and Scene Analysis.\\n     (Q327.D83) John Wiley & Sons.  ISBN 0-471-22361-1.  See page 218.\\n   - Dasarathy, B.V. (1980) \"Nosing Around the Neighborhood: A New System\\n     Structure and Classification Rule for Recognition in Partially Exposed\\n     Environments\".  IEEE Transactions on Pattern Analysis and Machine\\n     Intelligence, Vol. PAMI-2, No. 1, 67-71.\\n   - Gates, G.W. (1972) \"The Reduced Nearest Neighbor Rule\".  IEEE Transactions\\n     on Information Theory, May 1972, 431-433.\\n   - See also: 1988 MLC Proceedings, 54-64.  Cheeseman et al\"s AUTOCLASS II\\n     conceptual clustering system finds 3 classes in the data.\\n   - Many, many more ...',\n",
              " 'feature_names': ['sepal length (cm)',\n",
              "  'sepal width (cm)',\n",
              "  'petal length (cm)',\n",
              "  'petal width (cm)'],\n",
              " 'filename': 'iris.csv',\n",
              " 'data_module': 'sklearn.datasets.data'}"
            ]
          },
          "metadata": {},
          "execution_count": 11
        }
      ],
      "source": [
        "from sklearn.datasets import load_iris\n",
        "\n",
        "iris = load_iris()\n",
        "iris"
      ]
    },
    {
      "cell_type": "markdown",
      "id": "4d8e97cd",
      "metadata": {
        "id": "4d8e97cd"
      },
      "source": [
        "### 6 .1- How many samples and features (dimensions) for each sample in this dataset? (Hint: by using iris[‘data’].shape)"
      ]
    },
    {
      "cell_type": "code",
      "execution_count": null,
      "id": "bc8a40c2",
      "metadata": {
        "colab": {
          "base_uri": "https://localhost:8080/"
        },
        "id": "bc8a40c2",
        "outputId": "c4a33974-dfcf-47ac-9183-a5e2892e23ae"
      },
      "outputs": [
        {
          "output_type": "stream",
          "name": "stdout",
          "text": [
            "Number of Samples:  150 \n",
            "\n",
            "Number of Features:  4\n"
          ]
        }
      ],
      "source": [
        "iris_data = iris['data']\n",
        "\n",
        "iris_shape = iris_data.shape #there are 150 samples and 4 features\n",
        "\n",
        "print(\"Number of Samples: \", iris_shape[0], \"\\n\")\n",
        "print(\"Number of Features: \", iris_shape[1])"
      ]
    },
    {
      "cell_type": "markdown",
      "id": "b88e6b8e",
      "metadata": {
        "id": "b88e6b8e"
      },
      "source": [
        "### 6.2- What are the mean and standard deviation for each dimension? There should be four mean values and four standard deviations corresponding to four dimensions."
      ]
    },
    {
      "cell_type": "code",
      "execution_count": null,
      "id": "0d45a475",
      "metadata": {
        "colab": {
          "base_uri": "https://localhost:8080/"
        },
        "id": "0d45a475",
        "outputId": "dbbfbfdb-29a3-4282-ce73-9610328a09e7"
      },
      "outputs": [
        {
          "output_type": "stream",
          "name": "stdout",
          "text": [
            "Mean:  [5.84333333 3.05733333 3.758      1.19933333] \n",
            "\n",
            "Standard Deviation:  [0.82530129 0.43441097 1.75940407 0.75969263]\n"
          ]
        }
      ],
      "source": [
        "import numpy as np\n",
        "\n",
        "mean_dim = np.mean(iris_data, axis = 0)\n",
        "print(\"Mean: \", mean_dim, \"\\n\")\n",
        "\n",
        "std_dim = np.std(iris_data, axis = 0)\n",
        "print(\"Standard Deviation: \", std_dim)"
      ]
    },
    {
      "cell_type": "markdown",
      "id": "686c96de",
      "metadata": {
        "id": "686c96de"
      },
      "source": [
        "### 6.3- For each dimension, plot a histogram of all samples. In the same plot for each dimension, sample 10000 values from the Gaussian distribution with the mean and the standard deviation of this dimension. Do the original samples lie on the Gaussian distribution?"
      ]
    },
    {
      "cell_type": "code",
      "execution_count": null,
      "id": "c33decc5",
      "metadata": {
        "colab": {
          "base_uri": "https://localhost:8080/",
          "height": 1000
        },
        "id": "c33decc5",
        "outputId": "539cbfb0-d790-4091-f06d-2cbe13467394"
      },
      "outputs": [
        {
          "output_type": "display_data",
          "data": {
            "text/plain": [
              "<Figure size 432x288 with 1 Axes>"
            ],
            "image/png": "[encoded data removed]"
          },
          "metadata": {
            "needs_background": "light"
          }
        },
        {
          "output_type": "display_data",
          "data": {
            "text/plain": [
              "<Figure size 432x288 with 1 Axes>"
            ],
            "image/png": "[encoded data removed]"
          },
          "metadata": {
            "needs_background": "light"
          }
        },
        {
          "output_type": "display_data",
          "data": {
            "text/plain": [
              "<Figure size 432x288 with 1 Axes>"
            ],
            "image/png": "[encoded data removed]"
          },
          "metadata": {
            "needs_background": "light"
          }
        },
        {
          "output_type": "display_data",
          "data": {
            "text/plain": [
              "<Figure size 432x288 with 1 Axes>"
            ],
            "image/png": "[encoded data removed]"
          },
          "metadata": {
            "needs_background": "light"
          }
        }
      ],
      "source": [
        "import numpy as np\n",
        "import matplotlib.pyplot as plt\n",
        "\n",
        "for i in range(iris_data.shape[1]): #using a for loop instead of writing multiple codes for different histograms (for each dimension)\n",
        "    plt.hist(iris_data[:, i], alpha=0.5, density = True, label = 'Original data') #uses all rows for each column to plot\n",
        "\n",
        "    gaussian = np.random.normal(mean_dim[i], std_dim[i], size = 10000) #using Mean and Standard Deviation obtained from the previous question\n",
        "    plt.hist(gaussian, alpha=0.5, density = True, label = 'Gaussian distribution')\n",
        "\n",
        "    plt.legend()\n",
        "    plt.show()"
      ]
    },
    {
      "cell_type": "markdown",
      "id": "f76a528f",
      "metadata": {
        "id": "f76a528f"
      },
      "source": [
        "### The figures above show that the Original Sample is only within the Normal Samples in the first two dimensions."
      ]
    },
    {
      "cell_type": "markdown",
      "id": "a2d3c6c0",
      "metadata": {
        "id": "a2d3c6c0"
      },
      "source": [
        "### 6.4-   Each sample has a label, corresponding to the iris class. You can load the label information by iris[‘target’]. Similar to (2), what are the mean and standard deviation for each dimension considering only the iris samples of class 0? What about the class 1?"
      ]
    },
    {
      "cell_type": "code",
      "execution_count": null,
      "id": "1c58b05a",
      "metadata": {
        "colab": {
          "base_uri": "https://localhost:8080/"
        },
        "id": "1c58b05a",
        "outputId": "2352191b-a430-4907-f260-cedbb8e9c1bd"
      },
      "outputs": [
        {
          "output_type": "stream",
          "name": "stdout",
          "text": [
            "Mean for samples of class 0:  2.5355 \n",
            "\n",
            "Standard Deviation for samples of class 0:  1.843716287827387 \n",
            "\n",
            "Mean for samples of class 1:  3.573000000000001 \n",
            "\n",
            "Standard Deviation for samples of class 1:  1.7579735492890671\n"
          ]
        }
      ],
      "source": [
        "import numpy as np\n",
        "\n",
        "label_info = iris['target']\n",
        "\n",
        "d0 = iris_data[label_info == 0]\n",
        "d1 = iris_data[label_info == 1]\n",
        "\n",
        "mean_0s = np.mean(d0)\n",
        "std_0s = np.std(d0)\n",
        "print(\"Mean for samples of class 0: \", mean_0s, '\\n')\n",
        "print(\"Standard Deviation for samples of class 0: \", std_0s, '\\n')\n",
        "\n",
        "mean_1s = np.mean(d1)\n",
        "std_1s = np.std(d1)\n",
        "print(\"Mean for samples of class 1: \", mean_1s, '\\n')\n",
        "print(\"Standard Deviation for samples of class 1: \", std_1s)"
      ]
    },
    {
      "cell_type": "markdown",
      "id": "7a0c2770",
      "metadata": {
        "id": "7a0c2770"
      },
      "source": [
        "### 6.5-  Based on (4), considering only the first two dimensions in feature, i.e., (d0, d1), please scatter-plot the samples of class 0 with red and class 1 with blue in one single 2D plot. (Check https://www.w3schools.com/python/python_ml_scatterplot.asp )"
      ]
    },
    {
      "cell_type": "code",
      "execution_count": null,
      "id": "620b3e53",
      "metadata": {
        "colab": {
          "base_uri": "https://localhost:8080/",
          "height": 298
        },
        "id": "620b3e53",
        "outputId": "7d6597c7-1b5f-4da5-bcc7-619b0b802c1f"
      },
      "outputs": [
        {
          "output_type": "execute_result",
          "data": {
            "text/plain": [
              "Text(0.5, 1.0, 'Scatter Plot Showing Samples of Class 0 and Class 1')"
            ]
          },
          "metadata": {},
          "execution_count": 16
        },
        {
          "output_type": "display_data",
          "data": {
            "text/plain": [
              "<Figure size 432x288 with 1 Axes>"
            ],
            "image/png": "[encoded data removed]"
          },
          "metadata": {
            "needs_background": "light"
          }
        }
      ],
      "source": [
        "import numpy as np\n",
        "import matplotlib.pyplot as plt\n",
        "\n",
        "plt.scatter(d0[:,0], d0[:,1], color = 'red', label = \"Class 0\")\n",
        "plt.scatter(d1[:,0], d1[:,1], color = 'blue', label = \"Class 1\")\n",
        "\n",
        "plt.legend()\n",
        "plt.title(\"Scatter Plot Showing Samples of Class 0 and Class 1\")"
      ]
    },
    {
      "cell_type": "markdown",
      "id": "332f05bc",
      "metadata": {
        "id": "332f05bc"
      },
      "source": [
        "### 6.6- Recall what we have done for standardization during the lab. Can you please first standardize all the iris features and replot the samples of class 0 with red and class 1 with blue? What are the differences between the plots of (5) and (6)?"
      ]
    },
    {
      "cell_type": "code",
      "execution_count": null,
      "id": "186fc50e",
      "metadata": {
        "colab": {
          "base_uri": "https://localhost:8080/",
          "height": 316
        },
        "id": "186fc50e",
        "outputId": "f3987dc5-078a-4266-ccd7-8967eef3995b"
      },
      "outputs": [
        {
          "output_type": "stream",
          "name": "stdout",
          "text": [
            "New Mean: -1.4684549872375404e-15 New Standard Deviation: 1.0\n"
          ]
        },
        {
          "output_type": "execute_result",
          "data": {
            "text/plain": [
              "Text(0.5, 1.0, 'Scatter Plot Showing Standardized Samples of Class 0 and Class 1')"
            ]
          },
          "metadata": {},
          "execution_count": 17
        },
        {
          "output_type": "display_data",
          "data": {
            "text/plain": [
              "<Figure size 432x288 with 1 Axes>"
            ],
            "image/png": "[encoded data removed]"
          },
          "metadata": {
            "needs_background": "light"
          }
        }
      ],
      "source": [
        "import numpy as np\n",
        "\n",
        "iris_mean = np.mean(iris_data, axis=0)\n",
        "iris_std = np.std(iris_data, axis=0)\n",
        "\n",
        "#Standardizing All Features\n",
        "standardized_iris = (iris_data - iris_mean) / iris_std\n",
        "print(\"New Mean:\", standardized_iris.mean(),\"New Standard Deviation:\", standardized_iris.std()) #to show that the data has been standardized\n",
        "\n",
        "d0_standardized = standardized_iris[label_info == 0]\n",
        "d1_standardized = standardized_iris[label_info == 1]\n",
        "\n",
        "plt.scatter(d0_standardized[:,0], d0_standardized[:,1], color = 'red', label = \"Class 0\")\n",
        "plt.scatter(d1_standardized[:,0], d1_standardized[:,1], color = 'blue', label = \"Class 1\")\n",
        "\n",
        "plt.legend()\n",
        "plt.title(\"Scatter Plot Showing Standardized Samples of Class 0 and Class 1\")"
      ]
    },
    {
      "cell_type": "code",
      "execution_count": null,
      "id": "e39280ec",
      "metadata": {
        "colab": {
          "base_uri": "https://localhost:8080/",
          "height": 333
        },
        "id": "e39280ec",
        "outputId": "b91e3929-d34e-4ce4-c90e-3d2828b37a05"
      },
      "outputs": [
        {
          "output_type": "stream",
          "name": "stdout",
          "text": [
            "-0.08065814412473028 1.1552873312887915\n",
            "-0.27457490755269864 0.7726640704549294\n"
          ]
        },
        {
          "output_type": "execute_result",
          "data": {
            "text/plain": [
              "Text(0.5, 1.0, 'Scatter Plot Showing Standardized Samples (Only First Two Features) of Class 0 and Class 1')"
            ]
          },
          "metadata": {},
          "execution_count": 18
        },
        {
          "output_type": "display_data",
          "data": {
            "text/plain": [
              "<Figure size 432x288 with 1 Axes>"
            ],
            "image/png": "[encoded data removed]"
          },
          "metadata": {
            "needs_background": "light"
          }
        }
      ],
      "source": [
        "import numpy as np\n",
        "import matplotlib.pyplot as plt\n",
        "\n",
        "#Standardizing the First Two Features\n",
        "standardized_d0 = (d0[:,:2] - np.mean(iris_data[:,:2], axis = 0)) / np.std(iris_data[:,:2], axis = 0) #stan\n",
        "standardized_d1 = (d1[:,:2] - np.mean(iris_data[:,:2], axis = 0)) / np.std(iris_data[:,:2], axis = 0)\n",
        "\n",
        "plt.scatter(standardized_d0[:,0], standardized_d0[:,1], color = 'red', label = \"Class 0\")\n",
        "plt.scatter(standardized_d1[:,0], standardized_d1[:,1], color = 'blue', label = \"Class 1\")\n",
        "\n",
        "plt.legend(loc = 'upper left')\n",
        "plt.title(\"Scatter Plot Showing Standardized Samples (Only First Two Features) of Class 0 and Class 1\")"
      ]
    },
    {
      "cell_type": "markdown",
      "id": "eee00b93",
      "metadata": {
        "id": "eee00b93"
      },
      "source": [
        "### Differences Between Plots (5) and (6): The plot's axis has shifted in (6). Adding to that, the range/scale is different. Appears distributed in a better way. The standardization of the samples makes it easier to compare the features."
      ]
    }
  ],
  "metadata": {
    "kernelspec": {
      "display_name": "Python 3 (ipykernel)",
      "language": "python",
      "name": "python3"
    },
    "language_info": {
      "codemirror_mode": {
        "name": "ipython",
        "version": 3
      },
      "file_extension": ".py",
      "mimetype": "text/x-python",
      "name": "python",
      "nbconvert_exporter": "python",
      "pygments_lexer": "ipython3",
      "version": "3.9.13"
    },
    "colab": {
      "provenance": []
    }
  },
  "nbformat": 4,
  "nbformat_minor": 5
}